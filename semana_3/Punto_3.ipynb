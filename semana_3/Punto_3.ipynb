{
  "nbformat": 4,
  "nbformat_minor": 0,
  "metadata": {
    "colab": {
      "provenance": []
    },
    "kernelspec": {
      "name": "python3",
      "display_name": "Python 3"
    },
    "language_info": {
      "name": "python"
    }
  },
  "cells": [
    {
      "cell_type": "code",
      "source": [
        "!pip install -q scikit-fuzzy"
      ],
      "metadata": {
        "id": "BlIkMqqL5sOL"
      },
      "execution_count": null,
      "outputs": []
    },
    {
      "cell_type": "code",
      "execution_count": null,
      "metadata": {
        "id": "sFwinjrB5ilX"
      },
      "outputs": [],
      "source": [
        "# --- SISTEMA DIFUSO DE SATISFACCIÓN EN UNA CAFETERÍA ---\n",
        "\n",
        "\n",
        "# Importar librerías\n",
        "import numpy as np\n",
        "import skfuzzy as fuzz\n",
        "from skfuzzy import control as ctrl\n",
        "import matplotlib.pyplot as plt\n",
        "\n",
        "# -------------------------------------\n",
        "# 1. Definición del Universo y Variables\n",
        "# -------------------------------------\n",
        "\n",
        "calidad_cafe = ctrl.Antecedent(np.arange(0, 11, 0.1), 'calidad_cafe')\n",
        "\n",
        "\n",
        "# -------------------------------------\n",
        "# 2. Funciones de Pertenencia (https://scikit-fuzzy.readthedocs.io/en/latest/api/skfuzzy.html)\n",
        "# -------------------------------------\n",
        "\n",
        "\n",
        "# Rapidez del servicio\n",
        "rapidez_servicio['lenta'] = fuzz.trapmf(rapidez_servicio.universe, [0, 0, 2, 4])  # Trapezoidal\n",
        "rapidez_servicio['moderada'] = fuzz.gbellmf(rapidez_servicio.universe, 1.5, 2.5, 5)  # Campana generalizada\n",
        "rapidez_servicio['rapida'] = fuzz.sigmf(rapidez_servicio.universe, 7, 3)\n",
        "\n",
        "\n",
        "def concentracion(conjunto):\n",
        "    return conjunto ** 2\n",
        "\n",
        "# Aplicar modificadores a las funciones de pertenencia seleccionadas\n",
        "calidad_cafe_muy_excelente = concentracion()  # Concentración: \"muy excelente\"\n",
        "\n",
        "\n",
        "\n",
        "# Ejemplo utilizando el modificador\n",
        "\n",
        "\n",
        "calidad_cafe['muy_excelente'] = calidad_cafe_muy_excelente\n",
        "# -------------------------------------\n",
        "# 3. Visualización de las funciones de pertenencia\n",
        "# -------------------------------------\n",
        "\n",
        "rapidez_servicio.view()\n",
        "\n",
        "# -------------------------------------\n",
        "# 4. Definición de Reglas Difusas\n",
        "# -------------------------------------\n",
        "\n",
        "\n",
        "regla2 = ctrl.Rule(calidad_cafe['aceptable'] & atencion_barista['excelente'], satisfaccion['alta'])\n",
        "\n",
        "regla4 = ctrl.Rule(calidad_cafe['mala'] | atencion_barista['deficiente'], satisfaccion['baja'])\n",
        "\n",
        "regla6 = ctrl.Rule(rapidez_servicio['moderada'], satisfaccion['media'])\n",
        "\n",
        "\n",
        "# -------------------------------------\n",
        "# 5. Crear el sistema y simulador\n",
        "# -------------------------------------\n",
        "sistema = ctrl.ControlSystem([regla1, regla2, regla3, regla4, regla5, regla6, regla7])\n",
        "simulador = ctrl.ControlSystemSimulation(sistema)\n",
        "\n",
        "# -------------------------------------\n",
        "# 6. Ingreso de valores de entrada\n",
        "# (puedes modificarlos para probar distintos casos)\n",
        "# -------------------------------------\n",
        "\n",
        "simulador.input['rapidez_servicio'] =\n",
        "\n",
        "# -------------------------------------\n",
        "# 7. Ejecutar el sistema\n",
        "# -------------------------------------\n",
        "simulador.compute()\n",
        "\n",
        "# Mostrar resultado\n",
        "print(f\"Satisfacción estimada del cliente: {simulador.output['satisfaccion']:.2f}/100\")\n",
        "\n",
        "# Visualización del resultado de salida\n",
        "satisfaccion.view(sim=simulador)"
      ]
    },
    {
      "cell_type": "code",
      "source": [
        "# Gráficos personalizados para funciones de pertenencia\n",
        "def plot_membership(var, title):\n",
        "    plt.figure(figsize=(8, 4))\n",
        "    for label in var.terms:\n",
        "        plt.plot(var.universe, var[label].mf, label=label, linewidth=2)\n",
        "\n",
        "    plt.title(f'Funciones de Pertenencia - {title}', fontsize=14)\n",
        "    plt.xlabel('Valor', fontsize=12)\n",
        "    plt.ylabel('Pertenencia', fontsize=12)\n",
        "    plt.grid(alpha=0.3)\n",
        "    plt.legend()\n",
        "    plt.tight_layout()\n",
        "    plt.show()\n",
        "\n",
        "# Visualizar cada variable con estilo mejorado\n",
        "plot_membership(calidad_cafe, 'Calidad del Café')\n",
        "plot_membership(atencion_barista, 'Atención del Barista')\n",
        "plot_membership(rapidez_servicio, 'Rapidez del Servicio')\n",
        "plot_membership(satisfaccion, 'Satisfacción del Cliente')"
      ],
      "metadata": {
        "id": "du068sPb6jkG"
      },
      "execution_count": null,
      "outputs": []
    },
    {
      "cell_type": "code",
      "source": [
        "# Visualización personalizada de la salida calculada\n",
        "plt.figure(figsize=(8, 4))\n",
        "for label in satisfaccion.terms:\n",
        "    plt.plot(satisfaccion.universe, satisfaccion[label].mf, label=label, linewidth=2)\n",
        "\n",
        "plt.axvline(simulador.output['satisfaccion'], color='red', linestyle='--', label='Resultado')\n",
        "plt.title('Resultado del Sistema Difuso - Satisfacción del Cliente', fontsize=14)\n",
        "plt.xlabel('Satisfacción', fontsize=12)\n",
        "plt.ylabel('Pertenencia', fontsize=12)\n",
        "plt.legend()\n",
        "plt.grid(alpha=0.3)\n",
        "plt.tight_layout()\n",
        "plt.show()"
      ],
      "metadata": {
        "id": "bkalmceT6osL"
      },
      "execution_count": null,
      "outputs": []
    }
  ]
}