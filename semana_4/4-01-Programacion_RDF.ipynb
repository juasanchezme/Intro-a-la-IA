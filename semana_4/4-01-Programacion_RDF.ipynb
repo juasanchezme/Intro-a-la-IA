{
 "cells": [
  {
   "cell_type": "markdown",
   "metadata": {
    "id": "5YQVaEtjCfKd"
   },
   "source": [
    "# 1-Libreria RDFLib: Fundamentos"
   ]
  },
  {
   "cell_type": "markdown",
   "metadata": {
    "id": "kxgJ2dbfCkRq"
   },
   "source": [
    "Estudiaremos la libreria rdflib basada en el lenguaje python, para la manipulación de metadatos en RDF."
   ]
  },
  {
   "cell_type": "code",
   "execution_count": 1,
   "metadata": {
    "id": "oEoY78nkZ5Us"
   },
   "outputs": [
    {
     "name": "stdout",
     "output_type": "stream",
     "text": [
      "Collecting rdflib\n",
      "  Downloading rdflib-7.1.4-py3-none-any.whl.metadata (11 kB)\n",
      "Requirement already satisfied: pyparsing<4,>=2.1.0 in c:\\users\\cogito ergo sum\\appdata\\local\\programs\\python\\python312\\lib\\site-packages (from rdflib) (3.1.4)\n",
      "Downloading rdflib-7.1.4-py3-none-any.whl (565 kB)\n",
      "   ---------------------------------------- 0.0/565.1 kB ? eta -:--:--\n",
      "   ---------------------------------------- 565.1/565.1 kB 6.6 MB/s eta 0:00:00\n",
      "Installing collected packages: rdflib\n",
      "Successfully installed rdflib-7.1.4\n"
     ]
    },
    {
     "name": "stderr",
     "output_type": "stream",
     "text": [
      "DEPRECATION: Loading egg at c:\\users\\cogito ergo sum\\appdata\\local\\programs\\python\\python312\\lib\\site-packages\\homework-0.1-py3.12.egg is deprecated. pip 25.1 will enforce this behaviour change. A possible replacement is to use pip for package installation. Discussion can be found at https://github.com/pypa/pip/issues/12330\n",
      "\n",
      "[notice] A new release of pip is available: 25.0.1 -> 25.1.1\n",
      "[notice] To update, run: python.exe -m pip install --upgrade pip\n"
     ]
    }
   ],
   "source": [
    "# Instalaremos en nuestro entorno la siguiente libreria\n",
    "!pip install rdflib"
   ]
  },
  {
   "cell_type": "markdown",
   "metadata": {
    "id": "ScPuJrmTEixQ"
   },
   "source": [
    "### Ejemplo RDF 1"
   ]
  },
  {
   "cell_type": "markdown",
   "metadata": {
    "id": "qqOsSqQLipUb"
   },
   "source": [
    "La interfaz principal que expone RDFLib para trabajar con RDF es **`Graph`**. Estos son contenedores no ordenados. Tienen varias operaciones básicas (por ejemplo, **add ()** para agregar un patron de tripleta) más métodos que buscan tripletas y las devuelve en orden arbitrario.\n",
    "Los datos RDF son un gráfo donde los nodos son referencias URI (**URIRef**) o literales (**Literals**).\n",
    "\n",
    "**Los Namespaces y Bindigs**. Para crear muchos `URIRefs` con el mismo espacio de nombre, es decir, URI con el mismo prefijo, RDFLib tiene la clase **rdflib.namespace.Namespace**.\n",
    "En un grafo se puede enlazar un prefíjo a una URI de un namespace con el método: **rdflib.graph.bind()**.\n",
    "\n",
    "En RDFLib existen namespace mas usados como es el RDF, FOAF y otros.\n",
    "\n",
    "**FOAF** (Friend Of A Friend, literalmente \"Amigo de un Amigo\") es una ontología legible para las máquinas que describe a las personas, sus actividades y sus relaciones con otras personas y objetos\n",
    "\n",
    "\n"
   ]
  },
  {
   "cell_type": "code",
   "execution_count": 2,
   "metadata": {
    "id": "We3ZBTasbbwJ"
   },
   "outputs": [
    {
     "name": "stdout",
     "output_type": "stream",
     "text": [
      "Grafo g tiene 4 statements.\n",
      "@prefix ex: <http://example.org/animal#> .\n",
      "@prefix foaf: <http://xmlns.com/foaf/0.1/> .\n",
      "@prefix xsd: <http://www.w3.org/2001/XMLSchema#> .\n",
      "\n",
      "ex:Leon a ex:Mamifero ;\n",
      "    ex:edad 5 ;\n",
      "    ex:especie \"Panthera leo\" ;\n",
      "    foaf:name \"Simba\" .\n",
      "\n",
      "\n"
     ]
    }
   ],
   "source": [
    "from rdflib import Graph, Namespace, URIRef, Literal\n",
    "from rdflib.namespace import RDF, FOAF\n",
    "\n",
    "# Crear un nuevo grafo RDF\n",
    "g = Graph()\n",
    "\n",
    "# Namespaces\n",
    "EX = Namespace(\"http://example.org/animal#\")\n",
    "g.bind(\"ex\", EX)\n",
    "g.bind(\"foaf\", FOAF)\n",
    "\n",
    "# 🦁 Recurso URI: León\n",
    "leon = URIRef(EX.Leon)\n",
    "g.add((leon, RDF.type, EX.Mamifero))\n",
    "g.add((leon, FOAF.name, Literal(\"Simba\")))\n",
    "g.add((leon, EX.edad, Literal(5)))\n",
    "g.add((leon, EX.especie, Literal(\"Panthera leo\")))\n",
    "\n",
    "# Imprimir el número de \"tripletas\" en el Grafo\n",
    "print(f\"Grafo g tiene {len(g)} statements.\")\n",
    "\n",
    "# Imprimir el Grafo entero en el formato RDF Turtle\n",
    "print(g.serialize(format=\"turtle\"))"
   ]
  },
  {
   "cell_type": "markdown",
   "metadata": {
    "id": "mwTrUJUseyZQ"
   },
   "source": [
    "### Ejemplo RDF 2\n",
    "\n",
    "Es importante recordar que otro tipo de nodo en un grafo son los nodos blancos (**BNode**)."
   ]
  },
  {
   "cell_type": "code",
   "execution_count": 3,
   "metadata": {
    "id": "rGvFGYWVcYcM"
   },
   "outputs": [
    {
     "name": "stdout",
     "output_type": "stream",
     "text": [
      "Grafo g tiene 7 statements.\n",
      "@prefix ex: <http://example.org/animal#> .\n",
      "@prefix foaf: <http://xmlns.com/foaf/0.1/> .\n",
      "@prefix xsd: <http://www.w3.org/2001/XMLSchema#> .\n",
      "\n",
      "ex:Leon a ex:Mamifero ;\n",
      "    ex:edad 5 ;\n",
      "    ex:especie \"Panthera leo\" ;\n",
      "    foaf:name \"Simba\" .\n",
      "\n",
      "[] a ex:Ave ;\n",
      "    ex:color \"Amarillo\" ;\n",
      "    foaf:name \"Pájaro sin nombre\" .\n",
      "\n",
      "\n"
     ]
    }
   ],
   "source": [
    "from rdflib import BNode\n",
    "\n",
    "# 🐦 Nodo en blanco: Pájaro sin nombre\n",
    "unknown = BNode()\n",
    "g.add((unknown, RDF.type, EX.Ave))\n",
    "g.add((unknown, FOAF.name, Literal(\"Pájaro sin nombre\")))\n",
    "g.add((unknown, EX.color, Literal(\"Amarillo\")))\n",
    "\n",
    "# Imprimir el número de \"tripletas\" en el Grafo\n",
    "print(f\"Grafo g tiene {len(g)} statements.\")\n",
    "\n",
    "# Imprimir el Grafo entero en el formato RDF Turtle\n",
    "print(g.serialize(format=\"turtle\"))\n"
   ]
  },
  {
   "cell_type": "markdown",
   "metadata": {
    "id": "SebRDknBe9jA"
   },
   "source": [
    "### Ejemplo RDF 3\n",
    "\n",
    "Es posible recorrer cada una de las tripletas del grafo e identificar que tipo de elemento es el sujeto (s), el predicado (p) y el objeto (o)."
   ]
  },
  {
   "cell_type": "code",
   "execution_count": 4,
   "metadata": {
    "id": "jokVf9gGe_r5"
   },
   "outputs": [
    {
     "name": "stdout",
     "output_type": "stream",
     "text": [
      "Grafo g tiene 7 statements.\n",
      "URI URI URI\n",
      "http://example.org/animal#Leon http://www.w3.org/1999/02/22-rdf-syntax-ns#type http://example.org/animal#Mamifero\n",
      "blank URI literal\n",
      "N6ab62fc468244cd6b981ca1dfdc3ffb6 http://xmlns.com/foaf/0.1/name Pájaro sin nombre\n",
      "URI URI literal\n",
      "http://example.org/animal#Leon http://xmlns.com/foaf/0.1/name Simba\n",
      "URI URI literal\n",
      "http://example.org/animal#Leon http://example.org/animal#edad 5\n",
      "blank URI URI\n",
      "N6ab62fc468244cd6b981ca1dfdc3ffb6 http://www.w3.org/1999/02/22-rdf-syntax-ns#type http://example.org/animal#Ave\n",
      "blank URI literal\n",
      "N6ab62fc468244cd6b981ca1dfdc3ffb6 http://example.org/animal#color Amarillo\n",
      "URI URI literal\n",
      "http://example.org/animal#Leon http://example.org/animal#especie Panthera leo\n"
     ]
    }
   ],
   "source": [
    "# Imprimir el número de \"tripletas\" en el Grafo\n",
    "print(f\"Grafo g tiene {len(g)} statements.\")\n",
    "\n",
    "# Podemos recorrer las tripletas de la siguiente manera\n",
    "for s, p, o in g:\n",
    "  res = \"\"\n",
    "\n",
    "  # Clasfico los valores segun su tipo\n",
    "  if (type(s) is URIRef):\n",
    "    res += \"URI\"\n",
    "  elif (type(s) is BNode):\n",
    "    res += \"blank\"\n",
    "\n",
    "  if (type(p) is URIRef):\n",
    "    res += \" URI \"\n",
    "\n",
    "  if (type(o) is URIRef):\n",
    "    res += \"URI\"\n",
    "  elif (type(o) is Literal):\n",
    "    res += \"literal\"\n",
    "  elif (type(o) is BNode):\n",
    "    res += \"blank\"\n",
    "\n",
    "  print(res)\n",
    "  print(s, p, o)"
   ]
  },
  {
   "cell_type": "markdown",
   "metadata": {
    "id": "Ozptehmfix1C"
   },
   "source": [
    "### Ejemplo RDF 4\n",
    "\n",
    "Un elemento que puede hacer parte de un grafo son las listas. En este caso se estudia la creación de una lista tipo **colección** (compuesta por cabeza y cola) la cual no es editable.\n",
    "\n",
    "Otro aspecto importante es que en el caso de los Literales pueden asociarsele un tipo de dato haciendo uso del XMLSchema. En este caso el namespace estandar de este es XSD, el cual contiene el uri de la respectiva especificación. Este es un vocabulario que esta implementado en el RDFLib.\n",
    "\n",
    "Por ultimo es posible incluir para los Literales incluirle su lang (tipo de idioma)."
   ]
  },
  {
   "cell_type": "code",
   "execution_count": 5,
   "metadata": {
    "id": "CI8KILhUiDIC"
   },
   "outputs": [
    {
     "name": "stdout",
     "output_type": "stream",
     "text": [
      "@prefix ex: <http://example.org/animal#> .\n",
      "@prefix foaf: <http://xmlns.com/foaf/0.1/> .\n",
      "@prefix rdf: <http://www.w3.org/1999/02/22-rdf-syntax-ns#> .\n",
      "@prefix xsd: <http://www.w3.org/2001/XMLSchema#> .\n",
      "\n",
      "ex:Elefante a ex:Mamifero ;\n",
      "    ex:alimentosFavoritos ( \"Hojas\" \"Frutas\" \"Caña\" ) ;\n",
      "    ex:edad 10 ;\n",
      "    ex:numeroPatas 4 ;\n",
      "    foaf:name \"Dumbo\"@es .\n",
      "\n",
      "ex:Leon a ex:Mamifero ;\n",
      "    ex:edad 5 ;\n",
      "    ex:especie \"Panthera leo\" ;\n",
      "    foaf:name \"Simba\" .\n",
      "\n",
      "[] a ex:Ave ;\n",
      "    ex:color \"Amarillo\" ;\n",
      "    foaf:name \"Pájaro sin nombre\" .\n",
      "\n",
      "\n"
     ]
    },
    {
     "data": {
      "text/plain": [
       "<Graph identifier=N2a9b4d9aee03498cbe7bc7d2cb13a15b (<class 'rdflib.graph.Graph'>)>"
      ]
     },
     "execution_count": 5,
     "metadata": {},
     "output_type": "execute_result"
    }
   ],
   "source": [
    "from rdflib.namespace import XSD\n",
    "from rdflib.collection import Collection\n",
    "\n",
    "# 🐘 Recurso URI: Elefante\n",
    "elephant = URIRef(EX.Elefante)\n",
    "g.add((elephant, RDF.type, EX.Mamifero))\n",
    "g.add((elephant, FOAF.name, Literal(\"Dumbo\", lang=\"es\")))  # 👈 Literal con lenguaje español (\"es\")\n",
    "g.add((elephant, EX.edad, Literal(10)))\n",
    "g.add((elephant, EX.numeroPatas, Literal(4, datatype=XSD.integer)))  # 👈 Literal con tipo int\n",
    "\n",
    "\n",
    "# 🍃 Lista RDF (Colección): Alimentos favoritos del elefante\n",
    "favorite_foods = BNode()\n",
    "Collection(g, favorite_foods, [\n",
    "    Literal(\"Hojas\"),\n",
    "    Literal(\"Frutas\"),\n",
    "    Literal(\"Caña\")\n",
    "])\n",
    "g.add((elephant, EX.alimentosFavoritos, favorite_foods))\n",
    "\n",
    "# Imprimir el Grafo entero en el formato RDF Turtle\n",
    "print(g.serialize(format=\"turtle\"))\n",
    "\n",
    "# Guardar el grafo en un archivo Turtle\n",
    "g.serialize(\"animales.rdf\", format=\"turtle\")"
   ]
  },
  {
   "cell_type": "markdown",
   "metadata": {
    "id": "JijiR3unRF5S"
   },
   "source": [
    "### Ejemplo RDF 5"
   ]
  },
  {
   "cell_type": "markdown",
   "metadata": {
    "id": "lc48HHrDWYef"
   },
   "source": [
    "Profundizando en el uso de namespace, rdflib tiene algunas ontologias conocidad que atraves de sus **namespaces** se pueden **importar** directamente.\n"
   ]
  },
  {
   "cell_type": "code",
   "execution_count": 6,
   "metadata": {
    "id": "jAX0CZ9zQej6"
   },
   "outputs": [
    {
     "name": "stdout",
     "output_type": "stream",
     "text": [
      "http://example.org/aliciabarberis http://xmlns.com/foaf/0.1/name Alicia\n",
      "http://example.org/book http://www.w3.org/2004/02/skos/core#prefLabel Libro\n",
      "http://example.org/book http://www.w3.org/1999/02/22-rdf-syntax-ns#type http://www.w3.org/2004/02/skos/core#Concept\n",
      "http://example.org/book http://www.w3.org/2004/02/skos/core#altLabel Ejemplar\n",
      "http://example.org/book http://www.w3.org/2004/02/skos/core#definition Conjunto de hojas de papel, normalmente encuadernadas\n",
      "http://example.org/bookExample http://purl.org/dc/elements/1.1/title El infierno de los vivos\n",
      "http://example.org/bookExample http://purl.org/dc/elements/1.1/publisher http://example.org/bob\n",
      "http://example.org/aliciabarberis http://www.w3.org/1999/02/22-rdf-syntax-ns#type http://xmlns.com/foaf/0.1/Person\n",
      "http://example.org/bookExample http://purl.org/dc/elements/1.1/creator http://example.org/aliciabarberis\n",
      "http://example.org/bookExample http://purl.org/dc/elements/1.1/date 2005-12-07\n",
      "http://example.org/aliciabarberis http://xmlns.com/foaf/0.1/knows http://example.org/bob\n",
      "http://example.org/aliciabarberis http://xmlns.com/foaf/0.1/mbox mailto:alicia-barberis@example.org\n"
     ]
    }
   ],
   "source": [
    "# Importamos rdflib\n",
    "from rdflib import Graph, Literal, URIRef, Namespace\n",
    "\n",
    "# rdflib tiene algunas ontologías y usando sus namespaces se pueden importar\n",
    "from rdflib.namespace import FOAF, SKOS, DC, RDF\n",
    "\n",
    "# Creamos un grafo vacio\n",
    "g = Graph()\n",
    "\n",
    "# Creamos un namespace\n",
    "n = Namespace(\"http://example.org/\")\n",
    "\n",
    "# Creamos algunos recursos\n",
    "n.aliciabarberis\n",
    "n.bob\n",
    "n.bookExample\n",
    "n.book\n",
    "\n",
    "# Vocabulario FOAF\n",
    "g.add((n.aliciabarberis, RDF.type, FOAF.Person))\n",
    "g.add((n.aliciabarberis, FOAF.name, Literal(\"Alicia\")))\n",
    "g.add((n.aliciabarberis, FOAF.mbox, URIRef(\"mailto:alicia-barberis@example.org\")))\n",
    "g.add((n.aliciabarberis, FOAF.knows, n.bob))\n",
    "\n",
    "# Vocabulario Dublin core\n",
    "g.add((n.bookExample, DC.title, Literal(\"El infierno de los vivos\")))\n",
    "g.add((n.bookExample, DC.creator, n.aliciabarberis))\n",
    "g.add((n.bookExample, DC.date, Literal(\"2005-12-07\")))\n",
    "g.add((n.bookExample, DC.publisher, n.bob))\n",
    "\n",
    "\n",
    "# Vocabulario SKOS core\n",
    "g.add((n.book, RDF.type, SKOS.Concept))\n",
    "g.add((n.book, SKOS.prefLabel, Literal(\"Libro\")))\n",
    "g.add((n.book, SKOS.altLabel, Literal(\"Ejemplar\")))\n",
    "g.add((n.book, SKOS.definition, Literal(\"Conjunto de hojas de papel, normalmente encuadernadas\")))\n",
    "\n",
    "# Podemos recorrer e imprimir las tripletas de la siguiente manera\n",
    "for s, p, o in g:\n",
    "    print(s, p, o)\n"
   ]
  },
  {
   "cell_type": "markdown",
   "metadata": {
    "id": "vWIRObM2TrgG"
   },
   "source": [
    "### Ejemplo RDF 5"
   ]
  },
  {
   "cell_type": "markdown",
   "metadata": {
    "id": "GjPo9yS-ixgF"
   },
   "source": [
    "A partir del ejemplo anterior, estudiamos como poder consultar un grafo con RDFLib al evaluar un componente específico recorriendo las tripletas mediante un **for** y filtrandolas mediante un **if**."
   ]
  },
  {
   "cell_type": "code",
   "execution_count": 7,
   "metadata": {
    "id": "NrTWJXU2Tsib"
   },
   "outputs": [
    {
     "name": "stdout",
     "output_type": "stream",
     "text": [
      "http://example.org/aliciabarberis Alicia\n"
     ]
    }
   ],
   "source": [
    "# Podemos recorrer las tripletas de la siguiente manera\n",
    "for s, p, o in g:\n",
    "\n",
    "  # filtrando las tripletas por una condicion\n",
    "  if (\"http://xmlns.com/foaf/0.1/name\" == str(p)):\n",
    "    print(s, o)"
   ]
  },
  {
   "cell_type": "markdown",
   "metadata": {
    "id": "vlHyzSf7n4VI"
   },
   "source": [
    "### Ejemplo RDF 6"
   ]
  },
  {
   "cell_type": "markdown",
   "metadata": {
    "id": "kM1HLv8N_y7z"
   },
   "source": [
    "Se puede **modificar** el valor de una propiedad mediante el **método set**. Igualmente se puede **eliminar tripletas** con **remove**, indicando la tripleta específica o usando **None** para dejar\n",
    "sin especificar algún elemento."
   ]
  },
  {
   "cell_type": "code",
   "execution_count": 8,
   "metadata": {
    "id": "99mFbPeN33Ea"
   },
   "outputs": [
    {
     "name": "stdout",
     "output_type": "stream",
     "text": [
      "Grafo g tiene inicialmente 7 statements.\n",
      "http://mundo.mundial.org/persona/pedro http://xmlns.com/foaf/0.1/knows http://mundo.mundial.org/persona/maria\n",
      "http://mundo.mundial.org/persona/maria http://www.w3.org/1999/02/22-rdf-syntax-ns#type http://xmlns.com/foaf/0.1/Person\n",
      "http://mundo.mundial.org/persona/maria http://xmlns.com/foaf/0.1/name Maria\n",
      "http://mundo.mundial.org/persona/pedro http://www.w3.org/1999/02/22-rdf-syntax-ns#type http://xmlns.com/foaf/0.1/Person\n",
      "http://mundo.mundial.org/persona/pedro http://xmlns.com/foaf/0.1/name Pedro\n",
      "http://mundo.mundial.org/persona/pedro http://xmlns.com/foaf/0.1/age 22\n",
      "http://mundo.mundial.org/persona/maria http://xmlns.com/foaf/0.1/age 25\n",
      "Grafo g tiene finalmente 3 statements.\n",
      "http://mundo.mundial.org/persona/pedro http://www.w3.org/1999/02/22-rdf-syntax-ns#type http://xmlns.com/foaf/0.1/Person\n",
      "http://mundo.mundial.org/persona/pedro http://xmlns.com/foaf/0.1/name Pedro\n",
      "http://mundo.mundial.org/persona/pedro http://xmlns.com/foaf/0.1/age 23\n"
     ]
    }
   ],
   "source": [
    "# Importar rdflib y componentes RDF\n",
    "import rdflib\n",
    "from rdflib import Graph, Literal, BNode, Namespace, RDF, FOAF\n",
    "\n",
    "# Creamos un grafo vacio y definimos un namespace\n",
    "g = Graph()\n",
    "mm = Namespace('http://mundo.mundial.org/persona/')\n",
    "\n",
    "# Crear un recurso (RDF URI node) y sus tripletas asociadas\n",
    "pedro = mm.pedro\n",
    "maria = mm.maria\n",
    "\n",
    "g.add((pedro, RDF.type, FOAF.Person))\n",
    "g.add((pedro, FOAF.name, Literal('Pedro')))\n",
    "g.add((pedro, FOAF.age, Literal(22)))\n",
    "\n",
    "g.add((maria, RDF.type, FOAF.Person))\n",
    "g.add((maria, FOAF.name, Literal('Maria')))\n",
    "g.add((maria, FOAF.age, Literal(25)))\n",
    "\n",
    "g.add((pedro, FOAF.knows, maria))\n",
    "\n",
    "# Imprimir el número de \"tripletas\" en el Grafo\n",
    "print(f\"Grafo g tiene inicialmente {len(g)} statements.\")\n",
    "\n",
    "# Recorrer e imprimir las tripletas\n",
    "for s, p, o in g:\n",
    "    print(s, p, o)\n",
    "\n",
    "# Modificar el valor de una propiedad con el método set\n",
    "g.set((pedro, FOAF.age, Literal(23)))\n",
    "\n",
    "# Eliminar la tripleta pedro conoce a maria\n",
    "g.remove((pedro, FOAF.knows, maria))\n",
    "\n",
    "# Eliminar todas las tripletas que se refieren a maria usando None\n",
    "g.remove((maria, None, None))\n",
    "\n",
    "# Imprimir el número de \"tripletas\" en el Grafo\n",
    "print(f\"Grafo g tiene finalmente {len(g)} statements.\")\n",
    "\n",
    "# Recorrer e imprimir las tripletas\n",
    "for s, p, o in g:\n",
    "    print(s, p, o)\n",
    "\n"
   ]
  },
  {
   "cell_type": "markdown",
   "metadata": {
    "id": "DPxKHwnqk0JO"
   },
   "source": [
    "### Ejemplo RDF 7"
   ]
  },
  {
   "cell_type": "markdown",
   "metadata": {
    "id": "jOJ4Y0kMMvdL"
   },
   "source": [
    "Para cargar un archivo se debe saber el formato (turtle,xml, n3, ...) y utilizar el\n",
    "método **parse** del objeto Graph. Este ejemplo carga un archivo local."
   ]
  },
  {
   "cell_type": "code",
   "execution_count": 9,
   "metadata": {
    "id": "a0EN6BqJVihL"
   },
   "outputs": [
    {
     "ename": "FileNotFoundError",
     "evalue": "[Errno 2] No such file or directory: '\\\\content\\\\data.ttl'",
     "output_type": "error",
     "traceback": [
      "\u001b[1;31m---------------------------------------------------------------------------\u001b[0m",
      "\u001b[1;31mFileNotFoundError\u001b[0m                         Traceback (most recent call last)",
      "Cell \u001b[1;32mIn[9], line 5\u001b[0m\n\u001b[0;32m      2\u001b[0m \u001b[38;5;28;01mimport\u001b[39;00m \u001b[38;5;21;01mrdflib\u001b[39;00m\n\u001b[0;32m      4\u001b[0m \u001b[38;5;66;03m# Cargamos el grafo en formato turtle\u001b[39;00m\n\u001b[1;32m----> 5\u001b[0m \u001b[43mg\u001b[49m\u001b[38;5;241;43m.\u001b[39;49m\u001b[43mparse\u001b[49m\u001b[43m(\u001b[49m\u001b[38;5;124;43m\"\u001b[39;49m\u001b[38;5;124;43m/content/data.ttl\u001b[39;49m\u001b[38;5;124;43m\"\u001b[39;49m\u001b[43m,\u001b[49m\u001b[43m \u001b[49m\u001b[38;5;28;43mformat\u001b[39;49m\u001b[38;5;241;43m=\u001b[39;49m\u001b[38;5;124;43m\"\u001b[39;49m\u001b[38;5;124;43mttl\u001b[39;49m\u001b[38;5;124;43m\"\u001b[39;49m\u001b[43m)\u001b[49m\n\u001b[0;32m      8\u001b[0m \u001b[38;5;66;03m# Guardaremos la ontologia en formato xml\u001b[39;00m\n\u001b[0;32m      9\u001b[0m g\u001b[38;5;241m.\u001b[39mserialize(destination\u001b[38;5;241m=\u001b[39m\u001b[38;5;124m'\u001b[39m\u001b[38;5;124moutputio1.xml\u001b[39m\u001b[38;5;124m'\u001b[39m, \u001b[38;5;28mformat\u001b[39m\u001b[38;5;241m=\u001b[39m\u001b[38;5;124m'\u001b[39m\u001b[38;5;124mxml\u001b[39m\u001b[38;5;124m'\u001b[39m)\n",
      "File \u001b[1;32mc:\\Users\\Cogito ergo sum\\AppData\\Local\\Programs\\Python\\Python312\\Lib\\site-packages\\rdflib\\graph.py:1518\u001b[0m, in \u001b[0;36mGraph.parse\u001b[1;34m(self, source, publicID, format, location, file, data, **args)\u001b[0m\n\u001b[0;32m   1423\u001b[0m \u001b[38;5;28;01mdef\u001b[39;00m \u001b[38;5;21mparse\u001b[39m(\n\u001b[0;32m   1424\u001b[0m     \u001b[38;5;28mself\u001b[39m,\n\u001b[0;32m   1425\u001b[0m     source: Optional[\n\u001b[1;32m   (...)\u001b[0m\n\u001b[0;32m   1433\u001b[0m     \u001b[38;5;241m*\u001b[39m\u001b[38;5;241m*\u001b[39margs: Any,\n\u001b[0;32m   1434\u001b[0m ) \u001b[38;5;241m-\u001b[39m\u001b[38;5;241m>\u001b[39m Graph:\n\u001b[0;32m   1435\u001b[0m \u001b[38;5;250m    \u001b[39m\u001b[38;5;124;03m\"\"\"\u001b[39;00m\n\u001b[0;32m   1436\u001b[0m \u001b[38;5;124;03m    Parse an RDF source adding the resulting triples to the Graph.\u001b[39;00m\n\u001b[0;32m   1437\u001b[0m \n\u001b[1;32m   (...)\u001b[0m\n\u001b[0;32m   1515\u001b[0m \n\u001b[0;32m   1516\u001b[0m \u001b[38;5;124;03m    \"\"\"\u001b[39;00m\n\u001b[1;32m-> 1518\u001b[0m     source \u001b[38;5;241m=\u001b[39m \u001b[43mcreate_input_source\u001b[49m\u001b[43m(\u001b[49m\n\u001b[0;32m   1519\u001b[0m \u001b[43m        \u001b[49m\u001b[43msource\u001b[49m\u001b[38;5;241;43m=\u001b[39;49m\u001b[43msource\u001b[49m\u001b[43m,\u001b[49m\n\u001b[0;32m   1520\u001b[0m \u001b[43m        \u001b[49m\u001b[43mpublicID\u001b[49m\u001b[38;5;241;43m=\u001b[39;49m\u001b[43mpublicID\u001b[49m\u001b[43m,\u001b[49m\n\u001b[0;32m   1521\u001b[0m \u001b[43m        \u001b[49m\u001b[43mlocation\u001b[49m\u001b[38;5;241;43m=\u001b[39;49m\u001b[43mlocation\u001b[49m\u001b[43m,\u001b[49m\n\u001b[0;32m   1522\u001b[0m \u001b[43m        \u001b[49m\u001b[43mfile\u001b[49m\u001b[38;5;241;43m=\u001b[39;49m\u001b[43mfile\u001b[49m\u001b[43m,\u001b[49m\n\u001b[0;32m   1523\u001b[0m \u001b[43m        \u001b[49m\u001b[43mdata\u001b[49m\u001b[38;5;241;43m=\u001b[39;49m\u001b[43mdata\u001b[49m\u001b[43m,\u001b[49m\n\u001b[0;32m   1524\u001b[0m \u001b[43m        \u001b[49m\u001b[38;5;28;43mformat\u001b[39;49m\u001b[38;5;241;43m=\u001b[39;49m\u001b[38;5;28;43mformat\u001b[39;49m\u001b[43m,\u001b[49m\n\u001b[0;32m   1525\u001b[0m \u001b[43m    \u001b[49m\u001b[43m)\u001b[49m\n\u001b[0;32m   1526\u001b[0m     \u001b[38;5;28;01mif\u001b[39;00m \u001b[38;5;28mformat\u001b[39m \u001b[38;5;129;01mis\u001b[39;00m \u001b[38;5;28;01mNone\u001b[39;00m:\n\u001b[0;32m   1527\u001b[0m         \u001b[38;5;28mformat\u001b[39m \u001b[38;5;241m=\u001b[39m source\u001b[38;5;241m.\u001b[39mcontent_type\n",
      "File \u001b[1;32mc:\\Users\\Cogito ergo sum\\AppData\\Local\\Programs\\Python\\Python312\\Lib\\site-packages\\rdflib\\parser.py:735\u001b[0m, in \u001b[0;36mcreate_input_source\u001b[1;34m(source, publicID, location, file, data, format)\u001b[0m\n\u001b[0;32m    728\u001b[0m         \u001b[38;5;28;01massert\u001b[39;00m data \u001b[38;5;129;01mis\u001b[39;00m \u001b[38;5;28;01mNone\u001b[39;00m\n\u001b[0;32m    729\u001b[0m         \u001b[38;5;28;01massert\u001b[39;00m source \u001b[38;5;129;01mis\u001b[39;00m \u001b[38;5;28;01mNone\u001b[39;00m\n\u001b[0;32m    730\u001b[0m     (\n\u001b[0;32m    731\u001b[0m         absolute_location,\n\u001b[0;32m    732\u001b[0m         auto_close,\n\u001b[0;32m    733\u001b[0m         file,\n\u001b[0;32m    734\u001b[0m         input_source,\n\u001b[1;32m--> 735\u001b[0m     ) \u001b[38;5;241m=\u001b[39m \u001b[43m_create_input_source_from_location\u001b[49m\u001b[43m(\u001b[49m\n\u001b[0;32m    736\u001b[0m \u001b[43m        \u001b[49m\u001b[43mfile\u001b[49m\u001b[38;5;241;43m=\u001b[39;49m\u001b[43mfile\u001b[49m\u001b[43m,\u001b[49m\n\u001b[0;32m    737\u001b[0m \u001b[43m        \u001b[49m\u001b[38;5;28;43mformat\u001b[39;49m\u001b[38;5;241;43m=\u001b[39;49m\u001b[38;5;28;43mformat\u001b[39;49m\u001b[43m,\u001b[49m\n\u001b[0;32m    738\u001b[0m \u001b[43m        \u001b[49m\u001b[43minput_source\u001b[49m\u001b[38;5;241;43m=\u001b[39;49m\u001b[43minput_source\u001b[49m\u001b[43m,\u001b[49m\n\u001b[0;32m    739\u001b[0m \u001b[43m        \u001b[49m\u001b[43mlocation\u001b[49m\u001b[38;5;241;43m=\u001b[39;49m\u001b[43mlocation\u001b[49m\u001b[43m,\u001b[49m\n\u001b[0;32m    740\u001b[0m \u001b[43m    \u001b[49m\u001b[43m)\u001b[49m\n\u001b[0;32m    742\u001b[0m \u001b[38;5;28;01mif\u001b[39;00m file \u001b[38;5;129;01mis\u001b[39;00m \u001b[38;5;129;01mnot\u001b[39;00m \u001b[38;5;28;01mNone\u001b[39;00m:\n\u001b[0;32m    743\u001b[0m     \u001b[38;5;28;01mif\u001b[39;00m TYPE_CHECKING:\n",
      "File \u001b[1;32mc:\\Users\\Cogito ergo sum\\AppData\\Local\\Programs\\Python\\Python312\\Lib\\site-packages\\rdflib\\parser.py:795\u001b[0m, in \u001b[0;36m_create_input_source_from_location\u001b[1;34m(file, format, input_source, location)\u001b[0m\n\u001b[0;32m    793\u001b[0m \u001b[38;5;28;01mif\u001b[39;00m absolute_location\u001b[38;5;241m.\u001b[39mstartswith(\u001b[38;5;124m\"\u001b[39m\u001b[38;5;124mfile:///\u001b[39m\u001b[38;5;124m\"\u001b[39m):\n\u001b[0;32m    794\u001b[0m     filename \u001b[38;5;241m=\u001b[39m url2pathname(absolute_location\u001b[38;5;241m.\u001b[39mreplace(\u001b[38;5;124m\"\u001b[39m\u001b[38;5;124mfile:///\u001b[39m\u001b[38;5;124m\"\u001b[39m, \u001b[38;5;124m\"\u001b[39m\u001b[38;5;124m/\u001b[39m\u001b[38;5;124m\"\u001b[39m))\n\u001b[1;32m--> 795\u001b[0m     file \u001b[38;5;241m=\u001b[39m \u001b[38;5;28;43mopen\u001b[39;49m\u001b[43m(\u001b[49m\u001b[43mfilename\u001b[49m\u001b[43m,\u001b[49m\u001b[43m \u001b[49m\u001b[38;5;124;43m\"\u001b[39;49m\u001b[38;5;124;43mrb\u001b[39;49m\u001b[38;5;124;43m\"\u001b[39;49m\u001b[43m)\u001b[49m\n\u001b[0;32m    796\u001b[0m \u001b[38;5;28;01melse\u001b[39;00m:\n\u001b[0;32m    797\u001b[0m     input_source \u001b[38;5;241m=\u001b[39m URLInputSource(absolute_location, \u001b[38;5;28mformat\u001b[39m)\n",
      "\u001b[1;31mFileNotFoundError\u001b[0m: [Errno 2] No such file or directory: '\\\\content\\\\data.ttl'"
     ]
    }
   ],
   "source": [
    "# Importamos rdflib\n",
    "import rdflib\n",
    "\n",
    "# Cargamos el grafo en formato turtle\n",
    "g.parse(\"/content/data.ttl\", format=\"ttl\")\n",
    "\n",
    "\n",
    "# Guardaremos la ontologia en formato xml\n",
    "g.serialize(destination='outputio1.xml', format='xml')\n",
    "\n",
    "# format puede tener los siguientes valores https://rdflib.readthedocs.io/en/stable/plugin_serializers.html"
   ]
  },
  {
   "cell_type": "markdown",
   "metadata": {
    "id": "vsvBlMSuWQx1"
   },
   "source": [
    "### Ejemplo RDF 8\n"
   ]
  },
  {
   "cell_type": "markdown",
   "metadata": {
    "id": "JUUuTA4dNEwq"
   },
   "source": [
    "Se puede usar una URL para cargar archivos remotos"
   ]
  },
  {
   "cell_type": "code",
   "execution_count": null,
   "metadata": {
    "id": "xy_4kzc1WSeY"
   },
   "outputs": [],
   "source": [
    "# Importamos rdflib\n",
    "import rdflib\n",
    "from rdflib import Literal, BNode, URIRef\n",
    "\n",
    "# Creamos un grafo vacio\n",
    "g = rdflib.Graph()\n",
    "\n",
    "# Cargar un grafo remotamente desde una url (al no indicarle el formato, lo identifica automáticamente)\n",
    "g.parse(\"http://www.w3.org/People/Berners-Lee/card\")\n",
    "\n",
    "\n",
    "# Guardaremos la ontologia en formato xml\n",
    "g.serialize(destination='outputio2.ttl', format='ttl')"
   ]
  },
  {
   "cell_type": "markdown",
   "metadata": {
    "id": "r2E6WFUBAXh3"
   },
   "source": [
    "### Ejemplo RDF 9"
   ]
  },
  {
   "cell_type": "markdown",
   "metadata": {
    "id": "yBlBLMcrbKdY"
   },
   "source": [
    "El operador **in** sirve para verificar si un triple (o también un nodo) existe dentro de un grafo RDF.\n",
    "\n",
    "El operador **in** esta sobrecargado para los grafos, asi que podemos hacer consultas sencillas de existencia (Caso1) al igual que se puede usar también el método **triples** para hacer una consulta simple, usando **None** en la parte de la tripleta que se quiere que sea variable (caso2, caso3)."
   ]
  },
  {
   "cell_type": "code",
   "execution_count": null,
   "metadata": {
    "id": "vKkUMUeqAgAW"
   },
   "outputs": [],
   "source": [
    "import rdflib\n",
    "from rdflib import Graph, Literal, BNode, Namespace, FOAF\n",
    "\n",
    "g = Graph()\n",
    "n = Namespace('http://profesores.edu.co/')\n",
    "\n",
    "p1 = n.Jaime\n",
    "p2 = n.Alejandro\n",
    "v = Literal(40)\n",
    "g.add((p1, FOAF.age, v))\n",
    "g.add((p1, FOAF.name, Literal(\"Jaime\")))\n",
    "g.add((p2, FOAF.name, Literal(\"Alejandro\")))\n",
    "g.add((p2, FOAF.age, Literal(20)))\n",
    "\n",
    "# Caso1: Consulta simple\n",
    "print(\"Caso1\")\n",
    "if (p1, FOAF.age, v) in g:\n",
    "  print (\"Jaime tiene edad\")\n",
    "\n",
    "# Caso2: Consulta usando método triples y None\n",
    "print(\"Caso2\")\n",
    "for s, p, o in g.triples((None, FOAF.age, None)):\n",
    "  print(s, p, o)\n",
    "\n",
    "# Caso3: Consulta usando método triples y None\n",
    "print(\"Caso3\")\n",
    "for s, p, o in g.triples((p1, None, None)):\n",
    "  print(s, p, o)\n"
   ]
  }
 ],
 "metadata": {
  "colab": {
   "provenance": []
  },
  "kernelspec": {
   "display_name": "Python 3",
   "name": "python3"
  },
  "language_info": {
   "codemirror_mode": {
    "name": "ipython",
    "version": 3
   },
   "file_extension": ".py",
   "mimetype": "text/x-python",
   "name": "python",
   "nbconvert_exporter": "python",
   "pygments_lexer": "ipython3",
   "version": "3.12.6"
  }
 },
 "nbformat": 4,
 "nbformat_minor": 0
}
