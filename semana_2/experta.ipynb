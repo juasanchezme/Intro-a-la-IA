{
 "cells": [
  {
   "cell_type": "markdown",
   "id": "077c20e8",
   "metadata": {},
   "source": [
    "# Sistemas expertos usando la libreria experta\n"
   ]
  },
  {
   "cell_type": "markdown",
   "id": "65ca689e",
   "metadata": {},
   "source": [
    "## Primer ejemplo"
   ]
  },
  {
   "cell_type": "code",
   "execution_count": 16,
   "id": "81608b8a",
   "metadata": {},
   "outputs": [
    {
     "name": "stdout",
     "output_type": "stream",
     "text": [
      "Requirement already satisfied: experta in c:\\users\\cogito ergo sum\\appdata\\local\\programs\\python\\python312\\lib\\site-packages (1.9.4)\n",
      "Requirement already satisfied: frozendict==1.2 in c:\\users\\cogito ergo sum\\appdata\\local\\programs\\python\\python312\\lib\\site-packages (from experta) (1.2)\n",
      "Requirement already satisfied: schema==0.6.7 in c:\\users\\cogito ergo sum\\appdata\\local\\programs\\python\\python312\\lib\\site-packages (from experta) (0.6.7)\n"
     ]
    }
   ],
   "source": [
    "! pip install experta"
   ]
  },
  {
   "cell_type": "code",
   "execution_count": 17,
   "id": "924762c4",
   "metadata": {},
   "outputs": [],
   "source": [
    "import collections.abc\n",
    "if not hasattr(collections, 'Mapping'):\n",
    "    collections.Mapping = collections.abc.Mapping"
   ]
  },
  {
   "cell_type": "code",
   "execution_count": 18,
   "id": "1f1a5844",
   "metadata": {},
   "outputs": [
    {
     "name": "stdout",
     "output_type": "stream",
     "text": [
      "Podría ser migraña o estrés.\n",
      "Podría tener una infección.\n"
     ]
    }
   ],
   "source": [
    "\n",
    "from experta import Fact, Rule, KnowledgeEngine\n",
    "\n",
    "# Definimos los hechos\n",
    "class Sintoma(Fact):\n",
    "    pass\n",
    "\n",
    "# Creamos el sistema experto\n",
    "class DiagnosticoMedico(KnowledgeEngine):\n",
    "\n",
    "    @Rule(Sintoma(nombre=\"fiebre\"))\n",
    "    def enfermedad_fiebre(self):\n",
    "        print(\"Podría tener una infección.\")\n",
    "\n",
    "    @Rule(Sintoma(nombre=\"dolor de cabeza\"))\n",
    "    def enfermedad_cabeza(self):\n",
    "        print(\"Podría ser migraña o estrés.\")\n",
    "\n",
    "# Instanciamos el motor de conocimiento\n",
    "motor = DiagnosticoMedico()\n",
    "motor.reset()\n",
    "\n",
    "# Agregamos hechos\n",
    "motor.declare(Sintoma(nombre=\"fiebre\"))\n",
    "motor.declare(Sintoma(nombre=\"dolor de cabeza\"))\n",
    "\n",
    "# Ejecutamos las reglas\n",
    "motor.run()\n"
   ]
  },
  {
   "cell_type": "markdown",
   "id": "22172592",
   "metadata": {},
   "source": [
    "### Explicacion\n",
    "\n",
    "---\n",
    "\n",
    "```python\n",
    "# Paso 1: Importar la librería y las clases \n",
    "from experta import Fact, Rule, KnowledgeEngine\n",
    "```\n",
    "\n",
    "\n",
    "```python\n",
    "# Paso 2: Definir un hecho\n",
    "class Sintoma(Fact):\n",
    "    pass\n",
    "```\n",
    "Aquí defines un tipo de hecho que el sistema puede conocer, llamado Sintoma.\n",
    "Hereda de Fact, que es una clase base de la librería.\n",
    "Los hechos son como datos que el sistema usará para decidir.\n",
    "```python\n",
    "# Paso 3: Crear el sistema experto\n",
    "class DiagnosticoMedico(KnowledgeEngine):\n",
    "    \n",
    "    @Rule(Sintoma(nombre=\"fiebre\"))\n",
    "    def enfermedad_fiebre(self):\n",
    "        print(\"Podría tener una infección.\")\n",
    "\n",
    "    @Rule(Sintoma(nombre=\"dolor de cabeza\"))\n",
    "    def enfermedad_cabeza(self):\n",
    "        print(\"Podría ser migraña o estrés.\")\n",
    "```\n",
    "Creas una clase que representa tu motor de inferencia. Hereda de KnowledgeEngine, que gestiona reglas y hechos.\n",
    "\n",
    "Dentro de esta clase defines reglas usando los decoradores:\n",
    "```python\n",
    "@Rule(Sintoma(nombre=\"fiebre\"))\n",
    "    def enfermedad_fiebre(self):\n",
    "        print(\"Podría tener una infección.\")\n",
    "\n",
    "```\n",
    "Aquí defines una regla:\n",
    "\n",
    "Si hay un hecho Sintoma(nombre=\"fiebre\"),\n",
    "\n",
    "Entonces ejecuta la función enfermedad_fiebre.\n",
    "\n",
    "\n",
    "\n",
    "```python\n",
    "# Paso 4: Instanciar el motor\n",
    "motor = DiagnosticoMedico()\n",
    "motor.reset()\n",
    "```\n",
    "Crea una instancia de tu motor.\n",
    "\n",
    "reset() borra cualquier hecho anterior y prepara el motor para nuevos hechos.\n",
    "\n",
    "```python\n",
    "# Paso 5: Declarar hechos\n",
    "motor.declare(Sintoma(nombre=\"fiebre\"))\n",
    "motor.declare(Sintoma(nombre=\"dolor de cabeza\"))\n",
    "```\n",
    "Aquí le dices al sistema:\n",
    "\n",
    "“Tengo un paciente con fiebre y dolor de cabeza.”\n",
    "\n",
    "Estos hechos son los datos de entrada para que el sistema tome decisiones.\n",
    "```python\n",
    "# Paso 6: Ejecutar el sistema\n",
    "motor.run()\n",
    "```"
   ]
  },
  {
   "cell_type": "markdown",
   "id": "c6869b19",
   "metadata": {},
   "source": [
    "## Uso de Prioridades (salience)\n"
   ]
  },
  {
   "cell_type": "markdown",
   "id": "ff1eabdf",
   "metadata": {},
   "source": [
    "si no hay prioridades entonces, el último hecho declarado que activa una regla será la primera en ejecutarse.\n",
    "\n",
    "por eso en el ejemplo anterior lo primero que ejecuta es \n",
    "\n",
    "Podría ser migraña o estrés.\n"
   ]
  },
  {
   "cell_type": "markdown",
   "id": "4db03ae5",
   "metadata": {},
   "source": [
    "para controlar el orden de ejecución usamos **salience**"
   ]
  },
  {
   "cell_type": "code",
   "execution_count": 20,
   "id": "f86329f3",
   "metadata": {},
   "outputs": [
    {
     "name": "stdout",
     "output_type": "stream",
     "text": [
      "🔺 Podría tener una infección.\n",
      "🔻 Podría ser migraña o estrés.\n"
     ]
    }
   ],
   "source": [
    "# 🔥 Sistema experto con prioridades usando `salience` )\n",
    "\n",
    "# Paso 1: Definir los hechos\n",
    "class Sintoma(Fact):\n",
    "    pass\n",
    "\n",
    "# Paso 2: Crear el motor de conocimiento con reglas y prioridades\n",
    "class DiagnosticoMedico(KnowledgeEngine):\n",
    "\n",
    "    # Esta regla tiene mayor prioridad con salience=10\n",
    "    @Rule(Sintoma(nombre=\"fiebre\"), salience=10)\n",
    "    def enfermedad_fiebre(self):\n",
    "        print(\"🔺 Podría tener una infección.\")\n",
    "\n",
    "    # Esta tiene menor prioridad\n",
    "    @Rule(Sintoma(nombre=\"dolor de cabeza\"), salience=5)\n",
    "    def enfermedad_cabeza(self):\n",
    "        print(\"🔻 Podría ser migraña o estrés.\")\n",
    "\n",
    "# Paso 3: Instanciar y preparar el motor\n",
    "motor = DiagnosticoMedico()\n",
    "motor.reset()\n",
    "\n",
    "# Paso 4: Declarar hechos (en orden invertido para probar salience)\n",
    "motor.declare(Sintoma(nombre=\"fiebre\"))\n",
    "motor.declare(Sintoma(nombre=\"dolor de cabeza\"))\n",
    "\n",
    "# Paso 5: Ejecutar el motor de inferencia\n",
    "motor.run()\n"
   ]
  },
  {
   "cell_type": "markdown",
   "id": "5344e0d8",
   "metadata": {},
   "source": [
    "## Ejemplo 2 con uso de salience"
   ]
  },
  {
   "cell_type": "code",
   "execution_count": 26,
   "id": "da143f3b",
   "metadata": {},
   "outputs": [
    {
     "name": "stdout",
     "output_type": "stream",
     "text": [
      "Reiniciando la computadora 2.\n",
      "Reiniciando la computadora 1.\n",
      "La computadora está funcionando correctamente.\n"
     ]
    }
   ],
   "source": [
    "from experta import Fact, Rule, KnowledgeEngine\n",
    "\n",
    "# hechos\n",
    "class Computadora(Fact):\n",
    "    \"\"\"Estado de una computadora.\"\"\"\n",
    "    pass\n",
    "\n",
    "# creacion de reglas\n",
    "\n",
    "class SoporteComputadora(KnowledgeEngine):\n",
    "    @Rule(Computadora(estado='no_responde'), salience=1)\n",
    "    def reiniciar_computadora(self):\n",
    "        print(\"Reiniciando la computadora 1.\")\n",
    "        self.declare(Computadora(estado='funcionando'))\n",
    "\n",
    "    # Esta regla se incluye a proposito para aplicar salience\n",
    "    @Rule(Computadora(estado='no_responde'), salience=2)\n",
    "    def reiniciar_computadora2(self):\n",
    "        print(\"Reiniciando la computadora 2.\")\n",
    "\n",
    "    @Rule(Computadora(estado='funcionando'), salience=3)\n",
    "    def computadora_ok(self):\n",
    "        print(\"La computadora está funcionando correctamente.\")\n",
    "\n",
    "# Ejecución\n",
    "\n",
    "engine = SoporteComputadora()\n",
    "engine.reset()\n",
    "engine.declare(Computadora(estado='no_responde'))\n",
    "engine.run()"
   ]
  },
  {
   "cell_type": "markdown",
   "id": "78628a8d",
   "metadata": {},
   "source": [
    "## usando AND y OR"
   ]
  },
  {
   "cell_type": "markdown",
   "id": "774a2f1e",
   "metadata": {},
   "source": [
    "usar operadores lógicos como AND (con &) y OR (con |) en las reglas para combinar condiciones múltiples. Esto permite que una regla se active solo cuando se cumplen varios síntomas al mismo tiempo, o uno u otro.\n",
    "\n"
   ]
  },
  {
   "cell_type": "code",
   "execution_count": 1,
   "id": "55f75ad1",
   "metadata": {},
   "outputs": [
    {
     "ename": "AttributeError",
     "evalue": "module 'collections' has no attribute 'Mapping'",
     "output_type": "error",
     "traceback": [
      "\u001b[1;31m---------------------------------------------------------------------------\u001b[0m",
      "\u001b[1;31mAttributeError\u001b[0m                            Traceback (most recent call last)",
      "Cell \u001b[1;32mIn[1], line 1\u001b[0m\n\u001b[1;32m----> 1\u001b[0m \u001b[38;5;28;01mfrom\u001b[39;00m \u001b[38;5;21;01mexperta\u001b[39;00m \u001b[38;5;28;01mimport\u001b[39;00m Fact, Rule, KnowledgeEngine, AND, OR\n\u001b[0;32m      3\u001b[0m \u001b[38;5;66;03m# Paso 1: Definir el hecho\u001b[39;00m\n\u001b[0;32m      4\u001b[0m \u001b[38;5;28;01mclass\u001b[39;00m \u001b[38;5;21;01mSintoma\u001b[39;00m(Fact):\n",
      "File \u001b[1;32mc:\\Users\\Cogito ergo sum\\AppData\\Local\\Programs\\Python\\Python312\\Lib\\site-packages\\experta\\__init__.py:5\u001b[0m\n\u001b[0;32m      3\u001b[0m \u001b[38;5;28;01mtry\u001b[39;00m:\n\u001b[0;32m      4\u001b[0m     \u001b[38;5;28;01mfrom\u001b[39;00m \u001b[38;5;21;01m.\u001b[39;00m\u001b[38;5;21;01mconditionalelement\u001b[39;00m \u001b[38;5;28;01mimport\u001b[39;00m AND, OR, NOT, TEST, EXISTS, FORALL\n\u001b[1;32m----> 5\u001b[0m     \u001b[38;5;28;01mfrom\u001b[39;00m \u001b[38;5;21;01m.\u001b[39;00m\u001b[38;5;21;01mengine\u001b[39;00m \u001b[38;5;28;01mimport\u001b[39;00m KnowledgeEngine\n\u001b[0;32m      6\u001b[0m     \u001b[38;5;28;01mfrom\u001b[39;00m \u001b[38;5;21;01m.\u001b[39;00m\u001b[38;5;21;01mfact\u001b[39;00m \u001b[38;5;28;01mimport\u001b[39;00m Fact, InitialFact, Field\n\u001b[0;32m      7\u001b[0m     \u001b[38;5;28;01mfrom\u001b[39;00m \u001b[38;5;21;01m.\u001b[39;00m\u001b[38;5;21;01mfieldconstraint\u001b[39;00m \u001b[38;5;28;01mimport\u001b[39;00m L, W, P\n",
      "File \u001b[1;32mc:\\Users\\Cogito ergo sum\\AppData\\Local\\Programs\\Python\\Python312\\Lib\\site-packages\\experta\\engine.py:13\u001b[0m\n\u001b[0;32m     10\u001b[0m \u001b[38;5;28;01mfrom\u001b[39;00m \u001b[38;5;21;01mexperta\u001b[39;00m \u001b[38;5;28;01mimport\u001b[39;00m abstract\n\u001b[0;32m     12\u001b[0m \u001b[38;5;28;01mfrom\u001b[39;00m \u001b[38;5;21;01mexperta\u001b[39;00m\u001b[38;5;21;01m.\u001b[39;00m\u001b[38;5;21;01magenda\u001b[39;00m \u001b[38;5;28;01mimport\u001b[39;00m Agenda\n\u001b[1;32m---> 13\u001b[0m \u001b[38;5;28;01mfrom\u001b[39;00m \u001b[38;5;21;01mexperta\u001b[39;00m\u001b[38;5;21;01m.\u001b[39;00m\u001b[38;5;21;01mfact\u001b[39;00m \u001b[38;5;28;01mimport\u001b[39;00m InitialFact\n\u001b[0;32m     14\u001b[0m \u001b[38;5;28;01mfrom\u001b[39;00m \u001b[38;5;21;01mexperta\u001b[39;00m\u001b[38;5;21;01m.\u001b[39;00m\u001b[38;5;21;01mfactlist\u001b[39;00m \u001b[38;5;28;01mimport\u001b[39;00m FactList\n\u001b[0;32m     15\u001b[0m \u001b[38;5;28;01mfrom\u001b[39;00m \u001b[38;5;21;01mexperta\u001b[39;00m\u001b[38;5;21;01m.\u001b[39;00m\u001b[38;5;21;01mrule\u001b[39;00m \u001b[38;5;28;01mimport\u001b[39;00m Rule\n",
      "File \u001b[1;32mc:\\Users\\Cogito ergo sum\\AppData\\Local\\Programs\\Python\\Python312\\Lib\\site-packages\\experta\\fact.py:9\u001b[0m\n\u001b[0;32m      6\u001b[0m \u001b[38;5;28;01mfrom\u001b[39;00m \u001b[38;5;21;01mschema\u001b[39;00m \u001b[38;5;28;01mimport\u001b[39;00m Schema\n\u001b[0;32m      8\u001b[0m \u001b[38;5;28;01mfrom\u001b[39;00m \u001b[38;5;21;01mexperta\u001b[39;00m\u001b[38;5;21;01m.\u001b[39;00m\u001b[38;5;21;01mpattern\u001b[39;00m \u001b[38;5;28;01mimport\u001b[39;00m Bindable\n\u001b[1;32m----> 9\u001b[0m \u001b[38;5;28;01mfrom\u001b[39;00m \u001b[38;5;21;01mexperta\u001b[39;00m\u001b[38;5;21;01m.\u001b[39;00m\u001b[38;5;21;01mutils\u001b[39;00m \u001b[38;5;28;01mimport\u001b[39;00m freeze, unfreeze\n\u001b[0;32m     10\u001b[0m \u001b[38;5;28;01mfrom\u001b[39;00m \u001b[38;5;21;01mexperta\u001b[39;00m\u001b[38;5;21;01m.\u001b[39;00m\u001b[38;5;21;01mconditionalelement\u001b[39;00m \u001b[38;5;28;01mimport\u001b[39;00m OperableCE\n\u001b[0;32m     11\u001b[0m \u001b[38;5;28;01mfrom\u001b[39;00m \u001b[38;5;21;01mexperta\u001b[39;00m\u001b[38;5;21;01m.\u001b[39;00m\u001b[38;5;21;01mconditionalelement\u001b[39;00m \u001b[38;5;28;01mimport\u001b[39;00m ConditionalElement\n",
      "File \u001b[1;32mc:\\Users\\Cogito ergo sum\\AppData\\Local\\Programs\\Python\\Python312\\Lib\\site-packages\\experta\\utils.py:4\u001b[0m\n\u001b[0;32m      1\u001b[0m \u001b[38;5;28;01mfrom\u001b[39;00m \u001b[38;5;21;01mfunctools\u001b[39;00m \u001b[38;5;28;01mimport\u001b[39;00m singledispatch\n\u001b[0;32m      2\u001b[0m \u001b[38;5;28;01mimport\u001b[39;00m \u001b[38;5;21;01mcollections\u001b[39;00m\u001b[38;5;21;01m.\u001b[39;00m\u001b[38;5;21;01mabc\u001b[39;00m\n\u001b[1;32m----> 4\u001b[0m \u001b[38;5;28;01mfrom\u001b[39;00m \u001b[38;5;21;01mfrozendict\u001b[39;00m \u001b[38;5;28;01mimport\u001b[39;00m frozendict\n\u001b[0;32m      6\u001b[0m \u001b[38;5;28;01mfrom\u001b[39;00m \u001b[38;5;21;01m.\u001b[39;00m\u001b[38;5;21;01mfieldconstraint\u001b[39;00m \u001b[38;5;28;01mimport\u001b[39;00m P\n\u001b[0;32m      9\u001b[0m \u001b[38;5;28;01mclass\u001b[39;00m \u001b[38;5;21;01mfrozenlist\u001b[39;00m(\u001b[38;5;28mtuple\u001b[39m):\n",
      "File \u001b[1;32mc:\\Users\\Cogito ergo sum\\AppData\\Local\\Programs\\Python\\Python312\\Lib\\site-packages\\frozendict\\__init__.py:16\u001b[0m\n\u001b[0;32m     10\u001b[0m     OrderedDict \u001b[38;5;241m=\u001b[39m \u001b[38;5;28mNotImplemented\u001b[39m\n\u001b[0;32m     13\u001b[0m iteritems \u001b[38;5;241m=\u001b[39m \u001b[38;5;28mgetattr\u001b[39m(\u001b[38;5;28mdict\u001b[39m, \u001b[38;5;124m'\u001b[39m\u001b[38;5;124miteritems\u001b[39m\u001b[38;5;124m'\u001b[39m, \u001b[38;5;28mdict\u001b[39m\u001b[38;5;241m.\u001b[39mitems) \u001b[38;5;66;03m# py2-3 compatibility\u001b[39;00m\n\u001b[1;32m---> 16\u001b[0m \u001b[38;5;28;01mclass\u001b[39;00m \u001b[38;5;21;01mfrozendict\u001b[39;00m(\u001b[43mcollections\u001b[49m\u001b[38;5;241;43m.\u001b[39;49m\u001b[43mMapping\u001b[49m):\n\u001b[0;32m     17\u001b[0m \u001b[38;5;250m    \u001b[39m\u001b[38;5;124;03m\"\"\"\u001b[39;00m\n\u001b[0;32m     18\u001b[0m \u001b[38;5;124;03m    An immutable wrapper around dictionaries that implements the complete :py:class:`collections.Mapping`\u001b[39;00m\n\u001b[0;32m     19\u001b[0m \u001b[38;5;124;03m    interface. It can be used as a drop-in replacement for dictionaries where immutability is desired.\u001b[39;00m\n\u001b[0;32m     20\u001b[0m \u001b[38;5;124;03m    \"\"\"\u001b[39;00m\n\u001b[0;32m     22\u001b[0m     dict_cls \u001b[38;5;241m=\u001b[39m \u001b[38;5;28mdict\u001b[39m\n",
      "\u001b[1;31mAttributeError\u001b[0m: module 'collections' has no attribute 'Mapping'"
     ]
    }
   ],
   "source": [
    "\n",
    "from experta import Fact, Rule, KnowledgeEngine, AND, OR\n",
    "\n",
    "# Paso 1: Definir el hecho\n",
    "class Sintoma(Fact):\n",
    "    pass\n",
    "\n",
    "# Paso 2: Crear el sistema experto\n",
    "class DiagnosticoMedico(KnowledgeEngine):\n",
    "\n",
    "    # Regla con AND: fiebre Y dolor de cabeza\n",
    "    @Rule(AND(Sintoma(nombre=\"fiebre\"), Sintoma(nombre=\"dolor de cabeza\")))\n",
    "    def posible_gripa(self):\n",
    "        print(\"🟡 Podría ser una gripe fuerte.\")\n",
    "\n",
    "    # Regla con OR: fiebre O tos\n",
    "    @Rule(OR(Sintoma(nombre=\"fiebre\"), Sintoma(nombre=\"tos\")))\n",
    "    def posible_infeccion(self):\n",
    "        print(\"🟠 Puede haber una infección en curso.\")\n",
    "\n",
    "    # Reglas individuales (como antes)\n",
    "    @Rule(Sintoma(nombre=\"fiebre\"))\n",
    "    def solo_fiebre(self):\n",
    "        print(\"🔺 Solo fiebre detectada.\")\n",
    "\n",
    "    @Rule(Sintoma(nombre=\"dolor de cabeza\"))\n",
    "    def solo_cabeza(self):\n",
    "        print(\"🔻 Solo dolor de cabeza detectado.\")\n",
    "\n",
    "# Paso 3: Instanciar el motor\n",
    "motor = DiagnosticoMedico()\n",
    "motor.reset()\n",
    "\n",
    "# Paso 4: Declarar hechos\n",
    "motor.declare(Sintoma(nombre=\"fiebre\"))\n",
    "motor.declare(Sintoma(nombre=\"dolor de cabeza\"))\n",
    "\n",
    "# Paso 5: Ejecutar el motor\n",
    "motor.run()\n"
   ]
  },
  {
   "cell_type": "markdown",
   "id": "30bca992",
   "metadata": {},
   "source": [
    "tambien esta el operador lógico NOT"
   ]
  },
  {
   "cell_type": "markdown",
   "id": "79d535a2",
   "metadata": {},
   "source": [
    "### Ejemplo"
   ]
  },
  {
   "cell_type": "code",
   "execution_count": null,
   "id": "9cafa8d6",
   "metadata": {},
   "outputs": [
    {
     "name": "stdout",
     "output_type": "stream",
     "text": [
      "Protege las plántulas de zanahoria del frío y mantenga la humedad del suelo sin excesos de riego.\n",
      "Protege las plántulas de zanahoria del frío y mantenga la humedad del suelo sin excesos de riego.\n",
      "Reduce el riego del pepino y asegura buena circulación de aire.\n",
      "Reduce el riego del pepino y asegura buena circulación de aire.\n",
      "Riega la planta de tomate más frecuentemente y revisala por quemaduras de sol.\n",
      "Revisa la lechuga por plagas y enfermedades, considera usar pesticidas naturales.\n"
     ]
    }
   ],
   "source": [
    "from experta import Fact, KnowledgeEngine, Rule, AND, OR, NOT\n",
    "\n",
    "# se definen hechos\n",
    "\n",
    "class Planta(Fact):\n",
    "    \"\"\"Información sobre la planta.\"\"\"\n",
    "    pass\n",
    "\n",
    "class Ambiente(Fact):\n",
    "    \"\"\"Las condiciones ambientales que afectan la planta.\"\"\"\n",
    "    pass\n",
    "\n",
    "# Se define el motor de conocimiento donde se implementan las reglas utilizando los operadores lógicos.\n",
    "\n",
    "class AsistenteCuidadoPlantas(KnowledgeEngine):\n",
    "    @Rule(AND(Planta(tipo='tomate', nivel_agua='bajo'), Ambiente(sol='alto', humedad='media')))\n",
    "    def cuidado_tomate(self):\n",
    "        print(\"Riega la planta de tomate más frecuentemente y revisala por quemaduras de sol.\")\n",
    "\n",
    "    @Rule(OR(Planta(tipo='pepino', nivel_agua='alto'), Ambiente(humedad='alta')))\n",
    "    def cuidado_pepino(self):\n",
    "        print(\"Reduce el riego del pepino y asegura buena circulación de aire.\")\n",
    "\n",
    "    @Rule(NOT(Planta(tipo='lechuga', salud='buena')))\n",
    "    def cuidado_lechuga(self):\n",
    "        print(\"Revisa la lechuga por plagas y enfermedades, considera usar pesticidas naturales.\")\n",
    "\n",
    "    # Agregando más reglas que combinan AND, OR, NOT\n",
    "    @Rule(AND(Planta(tipo='zanahoria', etapa_crecimiento='plántula'),\n",
    "              OR(Ambiente(temperatura='fría'), Ambiente(humedad='baja')),\n",
    "              NOT(Ambiente(lluvia='reciente'))))\n",
    "    def cuidado_zanahoria(self):\n",
    "        print(\"Protege las plántulas de zanahoria del frío y mantenga la humedad del suelo sin excesos de riego.\")\n",
    "\n",
    "# ejecucion del sistema\n",
    "\n",
    "engine = AsistenteCuidadoPlantas()\n",
    "engine.reset()\n",
    "engine.declare(Planta(tipo='tomate', nivel_agua='bajo'))\n",
    "engine.declare(Ambiente(sol='alto', humedad='media'))\n",
    "engine.declare(Planta(tipo='pepino', nivel_agua='alto'))\n",
    "engine.declare(Ambiente(humedad='alta'))\n",
    "engine.declare(Planta(tipo='lechuga', salud='pobre'))\n",
    "engine.declare(Planta(tipo='zanahoria', etapa_crecimiento='plántula'))\n",
    "engine.declare(Ambiente(temperatura='fría', humedad='baja', lluvia='ninguna'))\n",
    "engine.run()"
   ]
  },
  {
   "cell_type": "markdown",
   "id": "755d349a",
   "metadata": {},
   "source": [
    "## Razonamiento con cambio de estados\n",
    "Uso de funciones retract() y declare()."
   ]
  },
  {
   "cell_type": "markdown",
   "id": "5123a77e",
   "metadata": {},
   "source": [
    "retract(): Esta función se utiliza para eliminar hechos de la memoria de trabajo del sistema experto.\n",
    "\n",
    "declare(): se utiliza para definir dinámicamente nuevos hechos o clases de hechos durante la ejecución del programa"
   ]
  },
  {
   "cell_type": "markdown",
   "id": "ef367847",
   "metadata": {},
   "source": [
    "### Ejercicio\n",
    "Se desea implementar un sistema experto donde un agente decide si regar o no las plantas según la humedad del suelo y el clima. Vamos a detallar el proceso paso a paso:\n",
    "\n",
    "Se definen los hechos: En este caso, podríamos tener un hecho Clima que pueda ser soleado, nublado o lluvioso, y otro hecho HumedadSuelo que pueda ser bajo, medio o alto.\n",
    "\n",
    "Definir las reglas: Las reglas podrían especificar que si la humedad del suelo es bajo y el clima no es lluvioso, entonces se debe regar las plantas. Si se decide regar las plantas, entonces la humedad del suelo debe cambiar a alto.\n",
    "\n",
    "Modificar hechos en las acciones de las reglas: Cuando una regla se dispara, la acción podría modificar el hecho de HumedadSuelo para reflejar que las plantas han sido regadas.\n",
    "\n",
    "Además de decidir si regar las plantas, el sistema también decide si es necesario aplicar fertilizante según el estado de las plantas y si es necesario emitir una alerta si las condiciones son adversas para el crecimiento de las plantas."
   ]
  },
  {
   "cell_type": "code",
   "execution_count": 27,
   "id": "1e62bce6",
   "metadata": {},
   "outputs": [
    {
     "name": "stdout",
     "output_type": "stream",
     "text": [
      "Acción: Regar las plantas.\n",
      "Nuevo estado: Humedad del suelo alta.\n",
      "Acción: Aplicar fertilizante.\n",
      "Nuevo estado: Plantas saludables.\n"
     ]
    }
   ],
   "source": [
    "from experta import *\n",
    "\n",
    "# Definir hechos\n",
    "\n",
    "class Clima(Fact):\n",
    "    \"\"\"Info about the weather.\"\"\"\n",
    "    pass\n",
    "\n",
    "class HumedadSuelo(Fact):\n",
    "    \"\"\"Info about the soil moisture.\"\"\"\n",
    "    pass\n",
    "\n",
    "class EstadoPlantas(Fact):\n",
    "    \"\"\"Info about the plants' health.\"\"\"\n",
    "    pass\n",
    "\n",
    "class Alerta(Fact):\n",
    "    \"\"\"Alert system for extreme conditions.\"\"\"\n",
    "    pass\n",
    "\n",
    "# Reglas\n",
    "\n",
    "class SistemaRiego(KnowledgeEngine):\n",
    "    @Rule(OR(AND(Clima(tipo='soleado'), HumedadSuelo(nivel='bajo')),\n",
    "             AND(Clima(tipo='nublado'), HumedadSuelo(nivel='bajo'))))\n",
    "    def regar_plantas(self):\n",
    "        print(\"Acción: Regar las plantas.\")\n",
    "        self.retract(self.fact_humedad) # Borra el hecho fact_humedad: ver cargar_datos_iniciales(self) (evita dos hechos del mismo tipo)\n",
    "        self.fact_humedad = self.declare(HumedadSuelo(nivel='alto')) # se crea el nuevo hecho fact_humedad\n",
    "        print(\"Nuevo estado: Humedad del suelo alta.\")\n",
    "\n",
    "    @Rule(AND(HumedadSuelo(nivel='alto'), NOT(EstadoPlantas(estado='saludable'))))\n",
    "    def aplicar_fertilizante(self):\n",
    "        print(\"Acción: Aplicar fertilizante.\")\n",
    "        self.declare(EstadoPlantas(estado='saludable'))\n",
    "        print(\"Nuevo estado: Plantas saludables.\")\n",
    "\n",
    "    @Rule(AND(Clima(tipo='lluvioso'), HumedadSuelo(nivel='alto')))\n",
    "    def emitir_alerta(self):\n",
    "        print(\"Acción: Emitir alerta de riesgo de inundación.\")\n",
    "        self.declare(Alerta(tipo='inundación'))\n",
    "        print(\"Alerta: Riesgo de inundación activada.\")\n",
    "\n",
    "    def __init__(self):\n",
    "        super().__init__()\n",
    "        self.fact_humedad = None\n",
    "\n",
    "\n",
    "    def cargar_datos_iniciales(self):\n",
    "        self.declare(Clima(tipo='soleado'))\n",
    "        self.fact_humedad = self.declare(HumedadSuelo(nivel='bajo'))\n",
    "        self.declare(EstadoPlantas(estado='no saludable'))\n",
    "\n",
    "# Ejecución\n",
    "\n",
    "sistema = SistemaRiego()\n",
    "sistema.reset()  # Prepara el motor de inferencia\n",
    "sistema.cargar_datos_iniciales()  # Cargamos los hechos iniciales\n",
    "sistema.run()  # Ejecutar el motor de inferencia"
   ]
  },
  {
   "cell_type": "markdown",
   "id": "56305c03",
   "metadata": {},
   "source": [
    "Este sistema es dinámico y permite la interacción entre varias reglas que pueden modificar la base de hechos y, a su vez, desencadenar otras reglas, mostrando un ejemplo más complejo de cómo los sistemas basados en reglas pueden gestionar una serie de decisiones interdependientes."
   ]
  },
  {
   "cell_type": "markdown",
   "id": "58e5e6fa",
   "metadata": {},
   "source": [
    "## Explicacion\n",
    "\n",
    "```python\n",
    "@Rule(OR(\n",
    "    AND(Clima(tipo='soleado'), HumedadSuelo(nivel='bajo')),\n",
    "    AND(Clima(tipo='nublado'), HumedadSuelo(nivel='bajo'))\n",
    "))\n",
    "def regar_plantas(self):\n",
    "    print(\"Acción: Regar las plantas.\")\n",
    "    self.retract(self.fact_humedad)\n",
    "    self.fact_humedad = self.declare(HumedadSuelo(nivel='alto'))\n",
    "    print(\"Nuevo estado: Humedad del suelo alta.\")\n",
    "```\n",
    "\n",
    "Si el clima es soleado o nublado y la humedad del suelo es baja, se riega.\n",
    "\n",
    "Luego, se actualiza el hecho de humedad a alto, usando retract() y declare() para evitar duplicados.\n",
    "\n",
    "\n",
    "\n",
    "\n",
    "```python\n",
    "    def __init__(self):\n",
    "        super().__init__()\n",
    "        self.fact_humedad = None\n",
    "```\n",
    "\n",
    "este seria el constructor de la clase SistemaRiego que hereda todo de KnowledgeEngine\n",
    "y estamos añadiendo el atributo humedad en None"
   ]
  }
 ],
 "metadata": {
  "kernelspec": {
   "display_name": "Python 3",
   "language": "python",
   "name": "python3"
  },
  "language_info": {
   "codemirror_mode": {
    "name": "ipython",
    "version": 3
   },
   "file_extension": ".py",
   "mimetype": "text/x-python",
   "name": "python",
   "nbconvert_exporter": "python",
   "pygments_lexer": "ipython3",
   "version": "3.12.6"
  }
 },
 "nbformat": 4,
 "nbformat_minor": 5
}
